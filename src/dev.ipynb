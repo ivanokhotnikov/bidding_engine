{
 "cells": [
  {
   "attachments": {},
   "cell_type": "markdown",
   "metadata": {},
   "source": [
    "# Bidding engine development"
   ]
  },
  {
   "attachments": {},
   "cell_type": "markdown",
   "metadata": {},
   "source": [
    "# Table of contents\n",
    "\n",
    "- [Imports](#imports)\n",
    "    - [Libraries](#libraries)\n",
    "    - [Raw data](#raw-data)\n",
    "- [Processing](#processing)\n",
    "    - [Missing values](#missing-values)\n",
    "        - [Forward fill](#filling-with-linear-ffill)\n",
    "        - [Imputing with most frequent](#filling-with-most-frequent)\n",
    "        - [Imputing with nearest neighbors](#filling-with-neighbours)\n",
    "    - [Converting object features to numerical](#converting-object-features-to-numerical)\n",
    "    - [Scaling metrics features](#scaling-metrics-features)\n",
    "    - [Downcasting numerical features](#downcasting-numerical-features)\n",
    "    - [Profiling interim data](#timeseries-of-the-random-feature-for-the-random-keyword)\n",
    "- [Feature engineering](#feature-engineering)\n",
    "    - [Add ROI](#add-roi)\n",
    "    - [Convert CPC to GBP](#convert-cpc-to-gbp)\n",
    "- [Quick look into keywords](#preliminary-keyword-analysis)\n",
    "    - [Most sessions](#most-sessions)\n",
    "    - [Least sessions](#least-sessions)\n",
    "    - [Most impressions](#most-impressions)\n",
    "    - [Least impressions](#least-impressions)\n",
    "- [Tokenize](#tokenize)"
   ]
  },
  {
   "attachments": {},
   "cell_type": "markdown",
   "metadata": {},
   "source": [
    "# Imports\n",
    "[top](#table-of-contents)"
   ]
  },
  {
   "attachments": {},
   "cell_type": "markdown",
   "metadata": {},
   "source": [
    "## Libraries\n"
   ]
  },
  {
   "cell_type": "code",
   "execution_count": 146,
   "metadata": {},
   "outputs": [
    {
     "data": {
      "text/plain": [
       "True"
      ]
     },
     "execution_count": 146,
     "metadata": {},
     "output_type": "execute_result"
    }
   ],
   "source": [
    "import os\n",
    "\n",
    "import matplotlib.pyplot as plt\n",
    "import numpy as np\n",
    "import pandas as pd\n",
    "from dotenv import load_dotenv\n",
    "from sklearn.impute import KNNImputer, SimpleImputer\n",
    "from transformers import AutoTokenizer\n",
    "import torch\n",
    "\n",
    "SEED = 1\n",
    "np.random.seed(seed=SEED)\n",
    "torch.manual_seed(seed=SEED)\n",
    "load_dotenv()"
   ]
  },
  {
   "cell_type": "markdown",
   "metadata": {},
   "source": []
  },
  {
   "attachments": {},
   "cell_type": "markdown",
   "metadata": {},
   "source": [
    "## Raw data"
   ]
  },
  {
   "cell_type": "code",
   "execution_count": 43,
   "metadata": {},
   "outputs": [],
   "source": [
    "raw_df = pd.read_feather(\n",
    "    os.path.join(os.environ['RAW_DATA_PATH'], 'bidding_data.feather'))\n"
   ]
  },
  {
   "cell_type": "code",
   "execution_count": 44,
   "metadata": {},
   "outputs": [
    {
     "name": "stdout",
     "output_type": "stream",
     "text": [
      "<class 'pandas.core.frame.DataFrame'>\n",
      "RangeIndex: 587593 entries, 0 to 587592\n",
      "Data columns (total 19 columns):\n",
      " #   Column                            Non-Null Count   Dtype         \n",
      "---  ------                            --------------   -----         \n",
      " 0   AdGroupId                         587593 non-null  int64         \n",
      " 1   CampaignId                        587593 non-null  int64         \n",
      " 2   CriterionId                       587593 non-null  int64         \n",
      " 3   Date                              587593 non-null  datetime64[ns]\n",
      " 4   CampaignName                      587593 non-null  object        \n",
      " 5   AdGroupName                       587593 non-null  object        \n",
      " 6   Criteria                          587593 non-null  object        \n",
      " 7   CpcBid                            587593 non-null  float64       \n",
      " 8   AbsoluteTopImpressionPercentage   587593 non-null  object        \n",
      " 9   TopImpressionPercentage           587593 non-null  object        \n",
      " 10  SearchImpressionShare             587593 non-null  object        \n",
      " 11  SearchTopImpressionShare          587593 non-null  object        \n",
      " 12  SearchRankLostTopImpressionShare  587593 non-null  object        \n",
      " 13  Impressions                       587593 non-null  int64         \n",
      " 14  Clicks                            587593 non-null  float64       \n",
      " 15  Cost                              587554 non-null  float64       \n",
      " 16  Sessions                          587593 non-null  float64       \n",
      " 17  Cost_gbp                          587593 non-null  float64       \n",
      " 18  Margin                            587593 non-null  float64       \n",
      "dtypes: datetime64[ns](1), float64(6), int64(4), object(8)\n",
      "memory usage: 85.2+ MB\n"
     ]
    }
   ],
   "source": [
    "raw_df.info()"
   ]
  },
  {
   "cell_type": "code",
   "execution_count": 45,
   "metadata": {},
   "outputs": [
    {
     "data": {
      "text/plain": [
       "AdGroupId                            0\n",
       "CampaignId                           0\n",
       "CriterionId                          0\n",
       "Date                                 0\n",
       "CampaignName                         0\n",
       "AdGroupName                          0\n",
       "Criteria                             0\n",
       "CpcBid                               0\n",
       "AbsoluteTopImpressionPercentage      0\n",
       "TopImpressionPercentage              0\n",
       "SearchImpressionShare                0\n",
       "SearchTopImpressionShare             0\n",
       "SearchRankLostTopImpressionShare     0\n",
       "Impressions                          0\n",
       "Clicks                               0\n",
       "Cost                                39\n",
       "Sessions                             0\n",
       "Cost_gbp                             0\n",
       "Margin                               0\n",
       "dtype: int64"
      ]
     },
     "execution_count": 45,
     "metadata": {},
     "output_type": "execute_result"
    }
   ],
   "source": [
    "raw_df.isna().sum()"
   ]
  },
  {
   "cell_type": "code",
   "execution_count": 46,
   "metadata": {},
   "outputs": [
    {
     "data": {
      "text/plain": [
       "0"
      ]
     },
     "execution_count": 46,
     "metadata": {},
     "output_type": "execute_result"
    }
   ],
   "source": [
    "sum(raw_df.duplicated())"
   ]
  },
  {
   "cell_type": "code",
   "execution_count": 47,
   "metadata": {},
   "outputs": [
    {
     "data": {
      "text/html": [
       "<div>\n",
       "<style scoped>\n",
       "    .dataframe tbody tr th:only-of-type {\n",
       "        vertical-align: middle;\n",
       "    }\n",
       "\n",
       "    .dataframe tbody tr th {\n",
       "        vertical-align: top;\n",
       "    }\n",
       "\n",
       "    .dataframe thead th {\n",
       "        text-align: right;\n",
       "    }\n",
       "</style>\n",
       "<table border=\"1\" class=\"dataframe\">\n",
       "  <thead>\n",
       "    <tr style=\"text-align: right;\">\n",
       "      <th></th>\n",
       "      <th>AdGroupId</th>\n",
       "      <th>CampaignId</th>\n",
       "      <th>CriterionId</th>\n",
       "      <th>Date</th>\n",
       "      <th>CampaignName</th>\n",
       "      <th>AdGroupName</th>\n",
       "      <th>Criteria</th>\n",
       "      <th>CpcBid</th>\n",
       "      <th>AbsoluteTopImpressionPercentage</th>\n",
       "      <th>TopImpressionPercentage</th>\n",
       "      <th>SearchImpressionShare</th>\n",
       "      <th>SearchTopImpressionShare</th>\n",
       "      <th>SearchRankLostTopImpressionShare</th>\n",
       "      <th>Impressions</th>\n",
       "      <th>Clicks</th>\n",
       "      <th>Cost</th>\n",
       "      <th>Sessions</th>\n",
       "      <th>Cost_gbp</th>\n",
       "      <th>Margin</th>\n",
       "    </tr>\n",
       "  </thead>\n",
       "  <tbody>\n",
       "    <tr>\n",
       "      <th>0</th>\n",
       "      <td>146372240840</td>\n",
       "      <td>19026016545</td>\n",
       "      <td>1224358859735</td>\n",
       "      <td>2022-10-07</td>\n",
       "      <td>GEN_Date</td>\n",
       "      <td>GEN_2023_Easter_Exact</td>\n",
       "      <td>easter 2023 holidays</td>\n",
       "      <td>1824000.0</td>\n",
       "      <td>0.0</td>\n",
       "      <td>0.0</td>\n",
       "      <td>&lt; 10%</td>\n",
       "      <td>0.12</td>\n",
       "      <td>1.08</td>\n",
       "      <td>0</td>\n",
       "      <td>0.0</td>\n",
       "      <td>0.0</td>\n",
       "      <td>0.0</td>\n",
       "      <td>0.00000</td>\n",
       "      <td>0.0</td>\n",
       "    </tr>\n",
       "    <tr>\n",
       "      <th>1</th>\n",
       "      <td>143665838613</td>\n",
       "      <td>19032609979</td>\n",
       "      <td>436468614376</td>\n",
       "      <td>2022-11-17</td>\n",
       "      <td>GEN_Type_Type</td>\n",
       "      <td>GEN_5 Star_Beach_BMM</td>\n",
       "      <td>+beach +holidays +5 +star</td>\n",
       "      <td>2160000.0</td>\n",
       "      <td>0.348</td>\n",
       "      <td>1.2</td>\n",
       "      <td>53.85%</td>\n",
       "      <td>0.648</td>\n",
       "      <td>0.552</td>\n",
       "      <td>9</td>\n",
       "      <td>0.0</td>\n",
       "      <td>0.0</td>\n",
       "      <td>0.0</td>\n",
       "      <td>0.00000</td>\n",
       "      <td>0.0</td>\n",
       "    </tr>\n",
       "    <tr>\n",
       "      <th>2</th>\n",
       "      <td>142284478245</td>\n",
       "      <td>19032615052</td>\n",
       "      <td>151556316</td>\n",
       "      <td>2022-09-21</td>\n",
       "      <td>GEN_Type_Date</td>\n",
       "      <td>GEN_Cheap_Christmas_Exact</td>\n",
       "      <td>cheap christmas vacations</td>\n",
       "      <td>708000.0</td>\n",
       "      <td>0.8999999999999999</td>\n",
       "      <td>1.2</td>\n",
       "      <td>100.00%</td>\n",
       "      <td>1.2</td>\n",
       "      <td>0.0</td>\n",
       "      <td>9</td>\n",
       "      <td>1.2</td>\n",
       "      <td>1008000.0</td>\n",
       "      <td>1.2</td>\n",
       "      <td>1.02816</td>\n",
       "      <td>0.0</td>\n",
       "    </tr>\n",
       "    <tr>\n",
       "      <th>3</th>\n",
       "      <td>142284480445</td>\n",
       "      <td>19032615052</td>\n",
       "      <td>11690633763</td>\n",
       "      <td>2022-10-20</td>\n",
       "      <td>GEN_Type_Date</td>\n",
       "      <td>GEN_Deals_January_Exact</td>\n",
       "      <td>jan holiday deals</td>\n",
       "      <td>2544000.0</td>\n",
       "      <td>0.0</td>\n",
       "      <td>0.0</td>\n",
       "      <td>0.0</td>\n",
       "      <td>0.0</td>\n",
       "      <td>0.0</td>\n",
       "      <td>0</td>\n",
       "      <td>0.0</td>\n",
       "      <td>0.0</td>\n",
       "      <td>0.0</td>\n",
       "      <td>0.00000</td>\n",
       "      <td>0.0</td>\n",
       "    </tr>\n",
       "    <tr>\n",
       "      <th>4</th>\n",
       "      <td>146372241280</td>\n",
       "      <td>19026016545</td>\n",
       "      <td>1416199961232</td>\n",
       "      <td>2022-11-17</td>\n",
       "      <td>GEN_Date</td>\n",
       "      <td>GEN_2023_August_BMM</td>\n",
       "      <td>+august +vacations +2023</td>\n",
       "      <td>1260000.0</td>\n",
       "      <td>0.0</td>\n",
       "      <td>0.0</td>\n",
       "      <td>100.00%</td>\n",
       "      <td>0.12</td>\n",
       "      <td>1.08</td>\n",
       "      <td>3</td>\n",
       "      <td>0.0</td>\n",
       "      <td>0.0</td>\n",
       "      <td>0.0</td>\n",
       "      <td>0.00000</td>\n",
       "      <td>0.0</td>\n",
       "    </tr>\n",
       "  </tbody>\n",
       "</table>\n",
       "</div>"
      ],
      "text/plain": [
       "      AdGroupId   CampaignId    CriterionId       Date   CampaignName  \\\n",
       "0  146372240840  19026016545  1224358859735 2022-10-07       GEN_Date   \n",
       "1  143665838613  19032609979   436468614376 2022-11-17  GEN_Type_Type   \n",
       "2  142284478245  19032615052      151556316 2022-09-21  GEN_Type_Date   \n",
       "3  142284480445  19032615052    11690633763 2022-10-20  GEN_Type_Date   \n",
       "4  146372241280  19026016545  1416199961232 2022-11-17       GEN_Date   \n",
       "\n",
       "                 AdGroupName                   Criteria     CpcBid  \\\n",
       "0      GEN_2023_Easter_Exact       easter 2023 holidays  1824000.0   \n",
       "1       GEN_5 Star_Beach_BMM  +beach +holidays +5 +star  2160000.0   \n",
       "2  GEN_Cheap_Christmas_Exact  cheap christmas vacations   708000.0   \n",
       "3    GEN_Deals_January_Exact          jan holiday deals  2544000.0   \n",
       "4        GEN_2023_August_BMM   +august +vacations +2023  1260000.0   \n",
       "\n",
       "  AbsoluteTopImpressionPercentage TopImpressionPercentage  \\\n",
       "0                             0.0                     0.0   \n",
       "1                           0.348                     1.2   \n",
       "2              0.8999999999999999                     1.2   \n",
       "3                             0.0                     0.0   \n",
       "4                             0.0                     0.0   \n",
       "\n",
       "  SearchImpressionShare SearchTopImpressionShare  \\\n",
       "0                 < 10%                     0.12   \n",
       "1                53.85%                    0.648   \n",
       "2               100.00%                      1.2   \n",
       "3                   0.0                      0.0   \n",
       "4               100.00%                     0.12   \n",
       "\n",
       "  SearchRankLostTopImpressionShare  Impressions  Clicks       Cost  Sessions  \\\n",
       "0                             1.08            0     0.0        0.0       0.0   \n",
       "1                            0.552            9     0.0        0.0       0.0   \n",
       "2                              0.0            9     1.2  1008000.0       1.2   \n",
       "3                              0.0            0     0.0        0.0       0.0   \n",
       "4                             1.08            3     0.0        0.0       0.0   \n",
       "\n",
       "   Cost_gbp  Margin  \n",
       "0   0.00000     0.0  \n",
       "1   0.00000     0.0  \n",
       "2   1.02816     0.0  \n",
       "3   0.00000     0.0  \n",
       "4   0.00000     0.0  "
      ]
     },
     "execution_count": 47,
     "metadata": {},
     "output_type": "execute_result"
    }
   ],
   "source": [
    "raw_df.head()"
   ]
  },
  {
   "attachments": {},
   "cell_type": "markdown",
   "metadata": {},
   "source": [
    "Observations\n",
    "\n",
    "1. 39 (out of 587,593) NaNs in `Cost` column. Nans rows can be dropped due to insignificant amount. Alternatively, can interpolated (forward fill)\n",
    "\n",
    "2. The following columns could be converted to numerical (floats) judging by the `bidding_df.head()` and columns names\n",
    "```\n",
    "8   AbsoluteTopImpressionPercentage   587593 non-null  object        \n",
    "9   TopImpressionPercentage           587593 non-null  object        \n",
    "10  SearchImpressionShare             587593 non-null  object        \n",
    "11  SearchTopImpressionShare          587593 non-null  object        \n",
    "12  SearchRankLostTopImpressionShare  587593 non-null  object        \n",
    "```"
   ]
  },
  {
   "attachments": {},
   "cell_type": "markdown",
   "metadata": {},
   "source": [
    "# Processing\n",
    "[top](#table-of-contents)"
   ]
  },
  {
   "cell_type": "code",
   "execution_count": 48,
   "metadata": {},
   "outputs": [],
   "source": [
    "interim_df = raw_df.copy(deep=True)\n",
    "interim_df_sorted = interim_df.sort_values(\n",
    "    by=['CriterionId', 'Date']).reset_index(drop=True)\n"
   ]
  },
  {
   "cell_type": "code",
   "execution_count": 49,
   "metadata": {},
   "outputs": [],
   "source": [
    "def plot_keyword(df, criterion, features):\n",
    "    \"\"\"\n",
    "    The plot_keyword function takes a dataframe, criterion ID, and list of features to plot.\n",
    "    It then plots the specified features for the given criterion ID.\n",
    "    \n",
    "    Parameters\n",
    "    ----------\n",
    "        df\n",
    "            Pass the dataframe to the function\n",
    "        criterion\n",
    "            Select the keyword to plot\n",
    "        features\n",
    "            Specify which columns to plot\n",
    "    \"\"\"\n",
    "    for feature in features:\n",
    "        plt.plot(df.loc[df['CriterionId'] == criterion, 'Date'],\n",
    "                 df.loc[df['CriterionId'] == criterion, feature],\n",
    "                 label=feature)\n",
    "    plt.title('Keyword ID {}\\nUnique keywords {}'.format(\n",
    "        criterion, raw_df.loc[raw_df['CriterionId'] == criterion,\n",
    "                              'Criteria'].unique()))\n",
    "    plt.xticks(rotation=45)\n",
    "    if len(features) == 1:\n",
    "        plt.ylabel(feature)\n",
    "    else:\n",
    "        plt.legend()\n",
    "    plt.show()"
   ]
  },
  {
   "cell_type": "code",
   "execution_count": 50,
   "metadata": {},
   "outputs": [],
   "source": [
    "def plot_filled(df, criterion, features):\n",
    "    \"\"\"\n",
    "    The plot_filled function takes a dataframe, criterion ID, and list of features as input.\n",
    "    It then plots the filled values for each feature in the list against the date.\n",
    "    If there is only one feature in the list, it labels that axis with that feature name.\n",
    "    \n",
    "    Parameters\n",
    "    ----------\n",
    "        df\n",
    "            Pass the dataframe to the function\n",
    "        criterion\n",
    "            Filter the dataframe to only show the rows that have a criterionid equal to criterion\n",
    "        features\n",
    "            Specify which columns to plot\n",
    "    \"\"\"\n",
    "    from matplotlib.markers import MarkerStyle\n",
    "\n",
    "    markers = list(MarkerStyle.markers.keys())[1:len(features) + 1]\n",
    "    plt.figure()\n",
    "    for feature, marker in zip(features, markers):\n",
    "        if 'filled' in feature:\n",
    "            plt.plot(df.loc[(df['CriterionId'] == criterion)\n",
    "                            & (df['Cost'].isna()), 'Date'],\n",
    "                     df.loc[(df['CriterionId'] == criterion) &\n",
    "                            (df['Cost'].isna()), feature],\n",
    "                     marker,\n",
    "                     label=feature)\n",
    "        else:\n",
    "            plt.plot(df.loc[df['CriterionId'] == criterion, 'Date'],\n",
    "                     df.loc[df['CriterionId'] == criterion, feature],\n",
    "                     label=feature)\n",
    "    plt.title('Keyword ID {}\\nUnique keywords {}'.format(\n",
    "        criterion,\n",
    "        df.sort_values(\n",
    "            by=['CriterionId', 'Date']).loc[df['CriterionId'] == criterion,\n",
    "                                            'Criteria'].unique()))\n",
    "    plt.xticks(rotation=45)\n",
    "    if len(features) == 1:\n",
    "        plt.ylabel(feature)\n",
    "    else:\n",
    "        plt.legend()\n",
    "    plt.show()"
   ]
  },
  {
   "attachments": {},
   "cell_type": "markdown",
   "metadata": {},
   "source": [
    "## Missing values"
   ]
  },
  {
   "cell_type": "code",
   "execution_count": 51,
   "metadata": {},
   "outputs": [],
   "source": [
    "missing_criterionids = raw_df.loc[raw_df['Cost'].isnull(),\n",
    "                                  'CriterionId'].unique()"
   ]
  },
  {
   "cell_type": "code",
   "execution_count": 52,
   "metadata": {},
   "outputs": [
    {
     "name": "stdout",
     "output_type": "stream",
     "text": [
      "unique keywords with missing values: 39\n"
     ]
    }
   ],
   "source": [
    "print(f'unique keywords with missing values: {len(missing_criterionids)}')"
   ]
  },
  {
   "cell_type": "code",
   "execution_count": 53,
   "metadata": {},
   "outputs": [
    {
     "data": {
      "image/png": "[encoded data removed]",
      "text/plain": [
       "<Figure size 640x480 with 1 Axes>"
      ]
     },
     "metadata": {},
     "output_type": "display_data"
    }
   ],
   "source": [
    "criterion = np.random.choice(missing_criterionids)\n",
    "features = ['Cost']\n",
    "plot_keyword(df=interim_df_sorted, criterion=criterion, features=features)"
   ]
  },
  {
   "attachments": {},
   "cell_type": "markdown",
   "metadata": {},
   "source": [
    "### Filling with forward fill"
   ]
  },
  {
   "cell_type": "code",
   "execution_count": 54,
   "metadata": {},
   "outputs": [],
   "source": [
    "interim_df_sorted['Cost_forward_filled'] = interim_df_sorted[\n",
    "    'Cost'].interpolate(method='ffill')\n"
   ]
  },
  {
   "attachments": {},
   "cell_type": "markdown",
   "metadata": {},
   "source": [
    "### Filling with most frequent"
   ]
  },
  {
   "cell_type": "code",
   "execution_count": 55,
   "metadata": {},
   "outputs": [],
   "source": [
    "frequency_imp = SimpleImputer(strategy='most_frequent')\n",
    "interim_df_sorted['Cost_frequency_filled'] = interim_df_sorted['Cost']\n",
    "for criterion in missing_criterionids:\n",
    "    interim_df_sorted.loc[\n",
    "        interim_df_sorted['CriterionId'] == criterion,\n",
    "        'Cost_frequency_filled'] = frequency_imp.fit_transform(\n",
    "            interim_df_sorted.loc[\n",
    "                interim_df_sorted['CriterionId'] == criterion,\n",
    "                'Cost_frequency_filled'].values.reshape(-1, 1)).reshape(-1)\n"
   ]
  },
  {
   "attachments": {},
   "cell_type": "markdown",
   "metadata": {},
   "source": [
    "### Filling with neighbours"
   ]
  },
  {
   "cell_type": "code",
   "execution_count": 56,
   "metadata": {},
   "outputs": [],
   "source": [
    "knn_imp = KNNImputer(n_neighbors=5, weights='distance')\n",
    "interim_df_sorted['Cost_knn_filled'] = interim_df_sorted['Cost']\n",
    "for criterion in missing_criterionids:\n",
    "    interim_df_sorted.loc[\n",
    "        interim_df_sorted['CriterionId'] == criterion,\n",
    "        'Cost_knn_filled'] = knn_imp.fit_transform(interim_df_sorted.loc[\n",
    "            interim_df_sorted['CriterionId'] == criterion,\n",
    "            'Cost_knn_filled'].values.reshape(-1, 1)).reshape(-1)\n"
   ]
  },
  {
   "attachments": {},
   "cell_type": "markdown",
   "metadata": {},
   "source": [
    "Comparison of the filling methods on the random keyword"
   ]
  },
  {
   "cell_type": "code",
   "execution_count": 57,
   "metadata": {},
   "outputs": [
    {
     "data": {
      "image/png": "[encoded data removed]",
      "text/plain": [
       "<Figure size 640x480 with 1 Axes>"
      ]
     },
     "metadata": {},
     "output_type": "display_data"
    },
    {
     "name": "stdout",
     "output_type": "stream",
     "text": [
      "keyword 306828928685. mode: 0.0\n"
     ]
    }
   ],
   "source": [
    "criterion = np.random.choice(missing_criterionids)\n",
    "plot_filled(df=interim_df_sorted,\n",
    "            criterion=criterion,\n",
    "            features=[\n",
    "                'Cost', 'Cost_forward_filled', 'Cost_frequency_filled',\n",
    "                'Cost_knn_filled'\n",
    "            ])\n",
    "print('keyword {}. mode: {}'.format(\n",
    "    criterion,\n",
    "    interim_df_sorted.loc[interim_df_sorted[\"CriterionId\"] == criterion,\n",
    "                          \"Cost\"].mode()[0]))\n"
   ]
  },
  {
   "attachments": {},
   "cell_type": "markdown",
   "metadata": {},
   "source": [
    "Conclusion on filling NaNs\n",
    "\n",
    "Due to sparsity of data, filling with the most frequent per keyword value was chosen"
   ]
  },
  {
   "cell_type": "code",
   "execution_count": 58,
   "metadata": {},
   "outputs": [],
   "source": [
    "interim_df_sorted_no_nans = interim_df_sorted.copy(deep=True)\n",
    "interim_df_sorted_no_nans['Cost'] = interim_df_sorted_no_nans[\n",
    "    'Cost_frequency_filled']\n",
    "interim_df_sorted_no_nans.drop(columns=[\n",
    "    'Cost_forward_filled', 'Cost_frequency_filled', 'Cost_knn_filled'\n",
    "],\n",
    "                               inplace=True)\n",
    "del knn_imp"
   ]
  },
  {
   "attachments": {},
   "cell_type": "markdown",
   "metadata": {},
   "source": [
    "## Converting object features to numerical"
   ]
  },
  {
   "cell_type": "code",
   "execution_count": 59,
   "metadata": {},
   "outputs": [],
   "source": [
    "object_columns = [\n",
    "    'AbsoluteTopImpressionPercentage', 'TopImpressionPercentage',\n",
    "    'SearchImpressionShare', 'SearchTopImpressionShare',\n",
    "    'SearchRankLostTopImpressionShare'\n",
    "]\n"
   ]
  },
  {
   "cell_type": "code",
   "execution_count": 60,
   "metadata": {},
   "outputs": [],
   "source": [
    "for col in object_columns:\n",
    "    interim_df_sorted_no_nans[col] = interim_df_sorted_no_nans[col].str.lstrip(\n",
    "        '<').str.rstrip('%').astype(float)\n"
   ]
  },
  {
   "attachments": {},
   "cell_type": "markdown",
   "metadata": {},
   "source": [
    "## Scaling metrics features\n",
    "\n",
    "See the ranges of metrics in [Google Ad API](https://developers.google.com/google-ads/api/fields/v11/metrics)"
   ]
  },
  {
   "cell_type": "code",
   "execution_count": 61,
   "metadata": {},
   "outputs": [],
   "source": [
    "for col in object_columns:\n",
    "    interim_df_sorted_no_nans[col] = (interim_df_sorted_no_nans[col] -\n",
    "                                      interim_df_sorted_no_nans[col].min()\n",
    "                                      ) / interim_df_sorted_no_nans[col].max()\n",
    "    if 'Percentage' in col:\n",
    "        interim_df_sorted_no_nans[col] *= 100"
   ]
  },
  {
   "attachments": {},
   "cell_type": "markdown",
   "metadata": {},
   "source": [
    "## Downcasting numerical features"
   ]
  },
  {
   "cell_type": "code",
   "execution_count": 62,
   "metadata": {},
   "outputs": [],
   "source": [
    "fcols = interim_df_sorted_no_nans.select_dtypes('float').columns\n",
    "icols = interim_df_sorted_no_nans.select_dtypes('integer').columns\n",
    "\n",
    "interim_df_sorted_no_nans[fcols] = interim_df_sorted_no_nans[fcols].apply(\n",
    "    pd.to_numeric, downcast='float')\n",
    "interim_df_sorted_no_nans[icols] = interim_df_sorted_no_nans[icols].apply(\n",
    "    pd.to_numeric, downcast='integer')\n"
   ]
  },
  {
   "attachments": {},
   "cell_type": "markdown",
   "metadata": {},
   "source": [
    "## Profiling interim data"
   ]
  },
  {
   "cell_type": "code",
   "execution_count": 63,
   "metadata": {},
   "outputs": [],
   "source": [
    "if 'interim_data.html' not in os.listdir(os.environ['DATA_PROFILES_PATH']):\n",
    "    from ydata_profiling import ProfileReport\n",
    "\n",
    "    os.makedirs(os.environ['DATA_PROFILES_PATH'], exist_ok=True)\n",
    "    interim_data_profile = ProfileReport(interim_df_sorted_no_nans,\n",
    "                                         title='Interim Data Profile')\n",
    "    interim_data_profile.to_file(\n",
    "        os.path.join(os.environ['DATA_PROFILES_PATH'], 'interim_data.html'))\n"
   ]
  },
  {
   "attachments": {},
   "cell_type": "markdown",
   "metadata": {},
   "source": [
    "# Feature engineering\n",
    "[top](#table-of-contents)"
   ]
  },
  {
   "attachments": {},
   "cell_type": "markdown",
   "metadata": {},
   "source": [
    "## Add ROI"
   ]
  },
  {
   "cell_type": "code",
   "execution_count": 64,
   "metadata": {},
   "outputs": [],
   "source": [
    "interim_df_sorted_no_nans['ROI_gbp'] = interim_df_sorted_no_nans[\n",
    "    'Margin'].divide(interim_df_sorted_no_nans['Cost_gbp'],\n",
    "                     fill_value=0).replace({\n",
    "                         np.inf: 0,\n",
    "                         np.nan: 0\n",
    "                     })\n",
    "interim_df_sorted_no_nans['ROI'] = interim_df_sorted_no_nans['Margin'].divide(\n",
    "    interim_df_sorted_no_nans['Cost'], fill_value=0).replace({\n",
    "        np.inf: 0,\n",
    "        np.nan: 0\n",
    "    })\n"
   ]
  },
  {
   "attachments": {},
   "cell_type": "markdown",
   "metadata": {},
   "source": [
    "## Convert CPC to GBP"
   ]
  },
  {
   "cell_type": "code",
   "execution_count": 65,
   "metadata": {},
   "outputs": [],
   "source": [
    "micros_to_gbp = interim_df_sorted_no_nans['Cost'].div(\n",
    "    interim_df_sorted_no_nans['Cost_gbp']).replace({\n",
    "        np.nan: 0,\n",
    "        np.inf: 0\n",
    "    }).unique()[1:].mean()\n"
   ]
  },
  {
   "cell_type": "code",
   "execution_count": 66,
   "metadata": {},
   "outputs": [],
   "source": [
    "interim_df_sorted_no_nans[\n",
    "    'CpcBid_gbp'] = interim_df_sorted_no_nans['CpcBid'] / micros_to_gbp\n"
   ]
  },
  {
   "cell_type": "code",
   "execution_count": 67,
   "metadata": {},
   "outputs": [],
   "source": [
    "interim_df_sorted_no_nans['Criteria'] = interim_df_sorted_no_nans[\n",
    "    'Criteria'].str.replace('+', '', regex=False)\n"
   ]
  },
  {
   "attachments": {},
   "cell_type": "markdown",
   "metadata": {},
   "source": [
    "# Quick look into keywords\n",
    "[top](#table-of-contents)"
   ]
  },
  {
   "cell_type": "code",
   "execution_count": 68,
   "metadata": {},
   "outputs": [
    {
     "data": {
      "text/plain": [
       "2337"
      ]
     },
     "execution_count": 68,
     "metadata": {},
     "output_type": "execute_result"
    }
   ],
   "source": [
    "len(interim_df_sorted_no_nans.loc[(interim_df_sorted_no_nans['ROI_gbp'] > 2) &\n",
    "                                  (interim_df_sorted_no_nans['Margin'] > 0) &\n",
    "                                  (interim_df_sorted_no_nans['Sessions'] > 0),\n",
    "                                  'CriterionId'].unique())\n"
   ]
  },
  {
   "attachments": {},
   "cell_type": "markdown",
   "metadata": {},
   "source": [
    "## Most sessions"
   ]
  },
  {
   "cell_type": "code",
   "execution_count": 69,
   "metadata": {},
   "outputs": [
    {
     "data": {
      "text/plain": [
       "array([1161551891012, 1210258704454,      28171120, 1058788934121,\n",
       "        299280651749, 1211159817982,   29536831107,     123742112,\n",
       "         31603113664,  301424692038,  296281234730], dtype=int64)"
      ]
     },
     "execution_count": 69,
     "metadata": {},
     "output_type": "execute_result"
    }
   ],
   "source": [
    "most_sessions = interim_df_sorted_no_nans.sort_values(\n",
    "    by=['Sessions'],\n",
    "    ascending=False).loc[interim_df_sorted_no_nans['ROI_gbp'] > 2,\n",
    "                         'CriterionId'][:75].unique()\n",
    "most_sessions"
   ]
  },
  {
   "cell_type": "code",
   "execution_count": 70,
   "metadata": {},
   "outputs": [
    {
     "data": {
      "text/plain": [
       "array(['city breaks', 'cheap all inclusive holidays',\n",
       "       'warm holidays in january', 'warm holiday destinations in march',\n",
       "       'winter sun holidays', 'weekend breaks',\n",
       "       'all inclusive vacations offers', 'all inclusive holidays 2023',\n",
       "       'holidays 2023', 'cheap holidays 2023', 'family holidays 2023'],\n",
       "      dtype=object)"
      ]
     },
     "execution_count": 70,
     "metadata": {},
     "output_type": "execute_result"
    }
   ],
   "source": [
    "interim_df_sorted_no_nans.loc[\n",
    "    interim_df_sorted_no_nans['CriterionId'].isin(most_sessions),\n",
    "    'Criteria'].unique()\n"
   ]
  },
  {
   "attachments": {},
   "cell_type": "markdown",
   "metadata": {},
   "source": [
    "## Least sessions"
   ]
  },
  {
   "cell_type": "code",
   "execution_count": 71,
   "metadata": {},
   "outputs": [
    {
     "data": {
      "text/plain": [
       "array([    10341671, 374901682957, 374477784176, 376861730083,\n",
       "       373125841645, 373023664447, 372921549487, 383313093317,\n",
       "       383321717437, 383306041437], dtype=int64)"
      ]
     },
     "execution_count": 71,
     "metadata": {},
     "output_type": "execute_result"
    }
   ],
   "source": [
    "least_sessions = interim_df_sorted_no_nans.sort_values(\n",
    "    by=['Sessions'], ascending=True)['CriterionId'].unique()[:10]\n",
    "least_sessions"
   ]
  },
  {
   "cell_type": "code",
   "execution_count": 72,
   "metadata": {},
   "outputs": [
    {
     "data": {
      "text/plain": [
       "array(['winter vacations', 'single group holidays',\n",
       "       'cheap holidays summer', 'holiday deals late', 'feb vacations',\n",
       "       'very cheap holidays abroad all inclusive',\n",
       "       'lads package holidays', 'summer bargain holidays',\n",
       "       'cheap discount holidays', 'cheap self catering holiday'],\n",
       "      dtype=object)"
      ]
     },
     "execution_count": 72,
     "metadata": {},
     "output_type": "execute_result"
    }
   ],
   "source": [
    "interim_df_sorted_no_nans.loc[\n",
    "    interim_df_sorted_no_nans['CriterionId'].isin(least_sessions),\n",
    "    'Criteria'].unique()\n"
   ]
  },
  {
   "attachments": {},
   "cell_type": "markdown",
   "metadata": {},
   "source": [
    "## Most impressions"
   ]
  },
  {
   "cell_type": "code",
   "execution_count": 73,
   "metadata": {},
   "outputs": [
    {
     "data": {
      "text/plain": [
       "array([ 371829061397, 1109001687720, 1224358859975, 1161551891012,\n",
       "        305548399133,  303054917163,      28171120,     674372683,\n",
       "        434524153626, 1210258704454], dtype=int64)"
      ]
     },
     "execution_count": 73,
     "metadata": {},
     "output_type": "execute_result"
    }
   ],
   "source": [
    "most_impressions = interim_df_sorted_no_nans.sort_values(\n",
    "    by=['Impressions'], ascending=False)['CriterionId'].unique()[:10]\n",
    "most_impressions"
   ]
  },
  {
   "cell_type": "code",
   "execution_count": 74,
   "metadata": {},
   "outputs": [
    {
     "data": {
      "text/plain": [
       "array(['city breaks', 'xmas markets', 'new years holidays',\n",
       "       'new years vacations', 'half term holidays', 'sun holidays deals',\n",
       "       'holidays new year 2022', 'holidays 2023', 'cheap holidays 2023',\n",
       "       'easter holidays 2023'], dtype=object)"
      ]
     },
     "execution_count": 74,
     "metadata": {},
     "output_type": "execute_result"
    }
   ],
   "source": [
    "interim_df_sorted_no_nans.loc[\n",
    "    interim_df_sorted_no_nans['CriterionId'].isin(most_impressions),\n",
    "    'Criteria'].unique()"
   ]
  },
  {
   "attachments": {},
   "cell_type": "markdown",
   "metadata": {},
   "source": [
    "## Least impressions"
   ]
  },
  {
   "cell_type": "code",
   "execution_count": 75,
   "metadata": {},
   "outputs": [
    {
     "data": {
      "text/plain": [
       "array([325586290788, 352388655012, 352388653892, 352395524543,\n",
       "       350271886521, 351428853727, 352078257487, 352388653652,\n",
       "       354676326914, 354566414810], dtype=int64)"
      ]
     },
     "execution_count": 75,
     "metadata": {},
     "output_type": "execute_result"
    }
   ],
   "source": [
    "least_impressions = interim_df_sorted_no_nans.sort_values(\n",
    "    by=['Impressions'], ascending=True)['CriterionId'].unique()[:10]\n",
    "least_impressions"
   ]
  },
  {
   "cell_type": "code",
   "execution_count": 76,
   "metadata": {},
   "outputs": [
    {
     "data": {
      "text/plain": [
       "array(['cheap holidays villa', 'holidays from inverness', 'bargain hotel',\n",
       "       'hotel 5 star', 'break easter holiday', 'deals easter holiday',\n",
       "       'break easter holidays', 'half term october holidays',\n",
       "       '5 star all inclusive vacations',\n",
       "       'villa holidays for large groups'], dtype=object)"
      ]
     },
     "execution_count": 76,
     "metadata": {},
     "output_type": "execute_result"
    }
   ],
   "source": [
    "interim_df_sorted_no_nans.loc[\n",
    "    interim_df_sorted_no_nans['CriterionId'].isin(least_impressions),\n",
    "    'Criteria'].unique()\n"
   ]
  },
  {
   "cell_type": "code",
   "execution_count": 77,
   "metadata": {},
   "outputs": [],
   "source": [
    "interim_df = interim_df_sorted_no_nans\n",
    "del interim_df_sorted_no_nans, interim_df_sorted, raw_df"
   ]
  },
  {
   "attachments": {},
   "cell_type": "markdown",
   "metadata": {},
   "source": [
    "# Tokenize\n",
    "[top](#table-of-contents)"
   ]
  },
  {
   "cell_type": "code",
   "execution_count": 111,
   "metadata": {},
   "outputs": [
    {
     "data": {
      "application/vnd.jupyter.widget-view+json": {
       "model_id": "e79c8bff21564ca387bc603864315487",
       "version_major": 2,
       "version_minor": 0
      },
      "text/plain": [
       "Downloading (…)okenizer_config.json:   0%|          | 0.00/28.0 [00:00<?, ?B/s]"
      ]
     },
     "metadata": {},
     "output_type": "display_data"
    },
    {
     "name": "stderr",
     "output_type": "stream",
     "text": [
      "c:\\Users\\iokhotnikov\\Documents\\Python\\bidding_engine\\.venv\\lib\\site-packages\\huggingface_hub\\file_download.py:133: UserWarning: `huggingface_hub` cache-system uses symlinks by default to efficiently store duplicated files but your machine does not support them in C:\\Users\\iokhotnikov\\.cache\\huggingface\\hub. Caching files will still work but in a degraded version that might require more space on your disk. This warning can be disabled by setting the `HF_HUB_DISABLE_SYMLINKS_WARNING` environment variable. For more details, see https://huggingface.co/docs/huggingface_hub/how-to-cache#limitations.\n",
      "To support symlinks on Windows, you either need to activate Developer Mode or to run Python as an administrator. In order to see activate developer mode, see this article: https://docs.microsoft.com/en-us/windows/apps/get-started/enable-your-device-for-development\n",
      "  warnings.warn(message)\n"
     ]
    },
    {
     "data": {
      "application/vnd.jupyter.widget-view+json": {
       "model_id": "067a4daa0aea46cfb35a53c9abf375db",
       "version_major": 2,
       "version_minor": 0
      },
      "text/plain": [
       "Downloading (…)lve/main/config.json:   0%|          | 0.00/483 [00:00<?, ?B/s]"
      ]
     },
     "metadata": {},
     "output_type": "display_data"
    },
    {
     "data": {
      "application/vnd.jupyter.widget-view+json": {
       "model_id": "7058c51338fb465fa04bca365a53e074",
       "version_major": 2,
       "version_minor": 0
      },
      "text/plain": [
       "Downloading (…)solve/main/vocab.txt:   0%|          | 0.00/232k [00:00<?, ?B/s]"
      ]
     },
     "metadata": {},
     "output_type": "display_data"
    },
    {
     "data": {
      "application/vnd.jupyter.widget-view+json": {
       "model_id": "f0c76f057e88473995be266066b8671a",
       "version_major": 2,
       "version_minor": 0
      },
      "text/plain": [
       "Downloading (…)/main/tokenizer.json:   0%|          | 0.00/466k [00:00<?, ?B/s]"
      ]
     },
     "metadata": {},
     "output_type": "display_data"
    }
   ],
   "source": [
    "tokenizer = AutoTokenizer.from_pretrained('distilbert-base-uncased')"
   ]
  },
  {
   "cell_type": "code",
   "execution_count": 143,
   "metadata": {},
   "outputs": [],
   "source": [
    "interim_df['Criteria_tokens'] = interim_df['Criteria'].map(\n",
    "    lambda x: tokenizer.tokenize(x, padding='max_length', truncation=True))\n"
   ]
  },
  {
   "cell_type": "code",
   "execution_count": 144,
   "metadata": {},
   "outputs": [],
   "source": [
    "interim_df['Criteria_ids'] = interim_df['Criteria_tokens'].map(\n",
    "    lambda x: tokenizer.convert_tokens_to_ids(x))\n"
   ]
  },
  {
   "cell_type": "code",
   "execution_count": 145,
   "metadata": {},
   "outputs": [
    {
     "data": {
      "text/plain": [
       "0         [3467, 10885, 2015, 0, 0, 0, 0, 0, 0, 0, 0, 0,...\n",
       "1         [3467, 10885, 2015, 0, 0, 0, 0, 0, 0, 0, 0, 0,...\n",
       "2         [3467, 10885, 2015, 0, 0, 0, 0, 0, 0, 0, 0, 0,...\n",
       "3         [3467, 10885, 2015, 0, 0, 0, 0, 0, 0, 0, 0, 0,...\n",
       "4         [3467, 10885, 2015, 0, 0, 0, 0, 0, 0, 0, 0, 0,...\n",
       "                                ...                        \n",
       "587588    [2283, 11938, 16798, 2549, 0, 0, 0, 0, 0, 0, 0...\n",
       "587589    [2283, 11938, 16798, 2549, 0, 0, 0, 0, 0, 0, 0...\n",
       "587590    [2283, 11938, 16798, 2549, 0, 0, 0, 0, 0, 0, 0...\n",
       "587591    [2283, 11938, 16798, 2549, 0, 0, 0, 0, 0, 0, 0...\n",
       "587592    [2283, 11938, 16798, 2549, 0, 0, 0, 0, 0, 0, 0...\n",
       "Name: Criteria_ids, Length: 587593, dtype: object"
      ]
     },
     "execution_count": 145,
     "metadata": {},
     "output_type": "execute_result"
    }
   ],
   "source": [
    "interim_df['Criteria_ids']"
   ]
  },
  {
   "cell_type": "code",
   "execution_count": 141,
   "metadata": {},
   "outputs": [
    {
     "name": "stderr",
     "output_type": "stream",
     "text": [
      "Some weights of the model checkpoint at distilbert-base-uncased were not used when initializing DistilBertModel: ['vocab_projector.weight', 'vocab_projector.bias', 'vocab_layer_norm.bias', 'vocab_transform.bias', 'vocab_layer_norm.weight', 'vocab_transform.weight']\n",
      "- This IS expected if you are initializing DistilBertModel from the checkpoint of a model trained on another task or with another architecture (e.g. initializing a BertForSequenceClassification model from a BertForPreTraining model).\n",
      "- This IS NOT expected if you are initializing DistilBertModel from the checkpoint of a model that you expect to be exactly identical (initializing a BertForSequenceClassification model from a BertForSequenceClassification model).\n"
     ]
    },
    {
     "data": {
      "text/plain": [
       "DistilBertModel(\n",
       "  (embeddings): Embeddings(\n",
       "    (word_embeddings): Embedding(30522, 768, padding_idx=0)\n",
       "    (position_embeddings): Embedding(512, 768)\n",
       "    (LayerNorm): LayerNorm((768,), eps=1e-12, elementwise_affine=True)\n",
       "    (dropout): Dropout(p=0.1, inplace=False)\n",
       "  )\n",
       "  (transformer): Transformer(\n",
       "    (layer): ModuleList(\n",
       "      (0): TransformerBlock(\n",
       "        (attention): MultiHeadSelfAttention(\n",
       "          (dropout): Dropout(p=0.1, inplace=False)\n",
       "          (q_lin): Linear(in_features=768, out_features=768, bias=True)\n",
       "          (k_lin): Linear(in_features=768, out_features=768, bias=True)\n",
       "          (v_lin): Linear(in_features=768, out_features=768, bias=True)\n",
       "          (out_lin): Linear(in_features=768, out_features=768, bias=True)\n",
       "        )\n",
       "        (sa_layer_norm): LayerNorm((768,), eps=1e-12, elementwise_affine=True)\n",
       "        (ffn): FFN(\n",
       "          (dropout): Dropout(p=0.1, inplace=False)\n",
       "          (lin1): Linear(in_features=768, out_features=3072, bias=True)\n",
       "          (lin2): Linear(in_features=3072, out_features=768, bias=True)\n",
       "          (activation): GELUActivation()\n",
       "        )\n",
       "        (output_layer_norm): LayerNorm((768,), eps=1e-12, elementwise_affine=True)\n",
       "      )\n",
       "      (1): TransformerBlock(\n",
       "        (attention): MultiHeadSelfAttention(\n",
       "          (dropout): Dropout(p=0.1, inplace=False)\n",
       "          (q_lin): Linear(in_features=768, out_features=768, bias=True)\n",
       "          (k_lin): Linear(in_features=768, out_features=768, bias=True)\n",
       "          (v_lin): Linear(in_features=768, out_features=768, bias=True)\n",
       "          (out_lin): Linear(in_features=768, out_features=768, bias=True)\n",
       "        )\n",
       "        (sa_layer_norm): LayerNorm((768,), eps=1e-12, elementwise_affine=True)\n",
       "        (ffn): FFN(\n",
       "          (dropout): Dropout(p=0.1, inplace=False)\n",
       "          (lin1): Linear(in_features=768, out_features=3072, bias=True)\n",
       "          (lin2): Linear(in_features=3072, out_features=768, bias=True)\n",
       "          (activation): GELUActivation()\n",
       "        )\n",
       "        (output_layer_norm): LayerNorm((768,), eps=1e-12, elementwise_affine=True)\n",
       "      )\n",
       "      (2): TransformerBlock(\n",
       "        (attention): MultiHeadSelfAttention(\n",
       "          (dropout): Dropout(p=0.1, inplace=False)\n",
       "          (q_lin): Linear(in_features=768, out_features=768, bias=True)\n",
       "          (k_lin): Linear(in_features=768, out_features=768, bias=True)\n",
       "          (v_lin): Linear(in_features=768, out_features=768, bias=True)\n",
       "          (out_lin): Linear(in_features=768, out_features=768, bias=True)\n",
       "        )\n",
       "        (sa_layer_norm): LayerNorm((768,), eps=1e-12, elementwise_affine=True)\n",
       "        (ffn): FFN(\n",
       "          (dropout): Dropout(p=0.1, inplace=False)\n",
       "          (lin1): Linear(in_features=768, out_features=3072, bias=True)\n",
       "          (lin2): Linear(in_features=3072, out_features=768, bias=True)\n",
       "          (activation): GELUActivation()\n",
       "        )\n",
       "        (output_layer_norm): LayerNorm((768,), eps=1e-12, elementwise_affine=True)\n",
       "      )\n",
       "      (3): TransformerBlock(\n",
       "        (attention): MultiHeadSelfAttention(\n",
       "          (dropout): Dropout(p=0.1, inplace=False)\n",
       "          (q_lin): Linear(in_features=768, out_features=768, bias=True)\n",
       "          (k_lin): Linear(in_features=768, out_features=768, bias=True)\n",
       "          (v_lin): Linear(in_features=768, out_features=768, bias=True)\n",
       "          (out_lin): Linear(in_features=768, out_features=768, bias=True)\n",
       "        )\n",
       "        (sa_layer_norm): LayerNorm((768,), eps=1e-12, elementwise_affine=True)\n",
       "        (ffn): FFN(\n",
       "          (dropout): Dropout(p=0.1, inplace=False)\n",
       "          (lin1): Linear(in_features=768, out_features=3072, bias=True)\n",
       "          (lin2): Linear(in_features=3072, out_features=768, bias=True)\n",
       "          (activation): GELUActivation()\n",
       "        )\n",
       "        (output_layer_norm): LayerNorm((768,), eps=1e-12, elementwise_affine=True)\n",
       "      )\n",
       "      (4): TransformerBlock(\n",
       "        (attention): MultiHeadSelfAttention(\n",
       "          (dropout): Dropout(p=0.1, inplace=False)\n",
       "          (q_lin): Linear(in_features=768, out_features=768, bias=True)\n",
       "          (k_lin): Linear(in_features=768, out_features=768, bias=True)\n",
       "          (v_lin): Linear(in_features=768, out_features=768, bias=True)\n",
       "          (out_lin): Linear(in_features=768, out_features=768, bias=True)\n",
       "        )\n",
       "        (sa_layer_norm): LayerNorm((768,), eps=1e-12, elementwise_affine=True)\n",
       "        (ffn): FFN(\n",
       "          (dropout): Dropout(p=0.1, inplace=False)\n",
       "          (lin1): Linear(in_features=768, out_features=3072, bias=True)\n",
       "          (lin2): Linear(in_features=3072, out_features=768, bias=True)\n",
       "          (activation): GELUActivation()\n",
       "        )\n",
       "        (output_layer_norm): LayerNorm((768,), eps=1e-12, elementwise_affine=True)\n",
       "      )\n",
       "      (5): TransformerBlock(\n",
       "        (attention): MultiHeadSelfAttention(\n",
       "          (dropout): Dropout(p=0.1, inplace=False)\n",
       "          (q_lin): Linear(in_features=768, out_features=768, bias=True)\n",
       "          (k_lin): Linear(in_features=768, out_features=768, bias=True)\n",
       "          (v_lin): Linear(in_features=768, out_features=768, bias=True)\n",
       "          (out_lin): Linear(in_features=768, out_features=768, bias=True)\n",
       "        )\n",
       "        (sa_layer_norm): LayerNorm((768,), eps=1e-12, elementwise_affine=True)\n",
       "        (ffn): FFN(\n",
       "          (dropout): Dropout(p=0.1, inplace=False)\n",
       "          (lin1): Linear(in_features=768, out_features=3072, bias=True)\n",
       "          (lin2): Linear(in_features=3072, out_features=768, bias=True)\n",
       "          (activation): GELUActivation()\n",
       "        )\n",
       "        (output_layer_norm): LayerNorm((768,), eps=1e-12, elementwise_affine=True)\n",
       "      )\n",
       "    )\n",
       "  )\n",
       ")"
      ]
     },
     "execution_count": 141,
     "metadata": {},
     "output_type": "execute_result"
    }
   ],
   "source": [
    "from transformers import DistilBertModel\n",
    "\n",
    "model = DistilBertModel.from_pretrained('distilbert-base-uncased',\n",
    "                                        output_hidden_states=True)\n",
    "model.eval()"
   ]
  },
  {
   "cell_type": "code",
   "execution_count": 148,
   "metadata": {},
   "outputs": [
    {
     "name": "stdout",
     "output_type": "stream",
     "text": [
      "[==================================================] 100.0% 1662.8/1662.8MB downloaded\n"
     ]
    }
   ],
   "source": [
    "import gensim.downloader as api\n",
    "wv = api.load('word2vec-google-news-300')"
   ]
  }
 ],
 "metadata": {
  "kernelspec": {
   "display_name": ".venv",
   "language": "python",
   "name": "python3"
  },
  "language_info": {
   "codemirror_mode": {
    "name": "ipython",
    "version": 3
   },
   "file_extension": ".py",
   "mimetype": "text/x-python",
   "name": "python",
   "nbconvert_exporter": "python",
   "pygments_lexer": "ipython3",
   "version": "3.10.6"
  },
  "orig_nbformat": 4
 },
 "nbformat": 4,
 "nbformat_minor": 2
}
