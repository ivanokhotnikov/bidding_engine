{
 "cells": [
  {
   "attachments": {},
   "cell_type": "markdown",
   "metadata": {},
   "source": [
    "# Bidding engine development"
   ]
  },
  {
   "attachments": {},
   "cell_type": "markdown",
   "metadata": {},
   "source": [
    "# Table of contents\n",
    "\n",
    "- [Imports](#imports)\n",
    "    - [Libraries](#libraries)\n",
    "    - [Raw data](#raw-data)\n",
    "- [Processing](#processing)\n",
    "    - [Missing values](#missing-values)\n",
    "        - [Forward fill](#filling-with-linear-ffill)\n",
    "        - [Imputing with most frequent](#filling-with-most-frequent)\n",
    "        - [Imputing with nearest neighbors](#filling-with-neighbours)\n",
    "    - [Converting object features to numerical](#converting-object-features-to-numerical)\n",
    "    - [Scaling metrics features](#scaling-metrics-features)\n",
    "    - [Downcasting numerical features](#downcasting-numerical-features)\n",
    "    - [Profiling interim data](#timeseries-of-the-random-feature-for-the-random-keyword)\n",
    "- [Feature engineering](#feature-engineering)\n",
    "    - [Add ROI](#add-roi)\n",
    "    - [Convert CPC to GBP](#convert-cpc-to-gbp)\n",
    "- [Quick look into keywords](#preliminary-keyword-analysis)\n",
    "    - [Most sessions](#most-sessions)\n",
    "    - [Least sessions](#least-sessions)\n",
    "    - [Most impressions](#most-impressions)\n",
    "    - [Least impressions](#least-impressions)\n",
    "- [Tokenize](#tokenize)"
   ]
  },
  {
   "attachments": {},
   "cell_type": "markdown",
   "metadata": {},
   "source": [
    "# Imports\n",
    "[top](#table-of-contents)"
   ]
  },
  {
   "attachments": {},
   "cell_type": "markdown",
   "metadata": {},
   "source": [
    "## Libraries\n"
   ]
  },
  {
   "cell_type": "code",
   "execution_count": null,
   "metadata": {},
   "outputs": [],
   "source": [
    "import os\n",
    "\n",
    "import matplotlib.pyplot as plt\n",
    "import numpy as np\n",
    "import pandas as pd\n",
    "from dotenv import load_dotenv\n",
    "from sklearn.impute import KNNImputer, SimpleImputer\n",
    "from transformers import AutoTokenizer\n",
    "\n",
    "np.random.seed(1)\n",
    "load_dotenv()"
   ]
  },
  {
   "attachments": {},
   "cell_type": "markdown",
   "metadata": {},
   "source": [
    "## Raw data"
   ]
  },
  {
   "cell_type": "code",
   "execution_count": null,
   "metadata": {},
   "outputs": [],
   "source": [
    "raw_df = pd.read_feather(\n",
    "    os.path.join(os.environ['RAW_DATA_PATH'], 'bidding_data.feather'))\n"
   ]
  },
  {
   "cell_type": "code",
   "execution_count": null,
   "metadata": {},
   "outputs": [],
   "source": [
    "raw_df.info()"
   ]
  },
  {
   "cell_type": "code",
   "execution_count": null,
   "metadata": {},
   "outputs": [],
   "source": [
    "raw_df.isna().sum()"
   ]
  },
  {
   "cell_type": "code",
   "execution_count": null,
   "metadata": {},
   "outputs": [],
   "source": [
    "sum(raw_df.duplicated())"
   ]
  },
  {
   "cell_type": "code",
   "execution_count": null,
   "metadata": {},
   "outputs": [],
   "source": [
    "raw_df.head()"
   ]
  },
  {
   "attachments": {},
   "cell_type": "markdown",
   "metadata": {},
   "source": [
    "Observations\n",
    "\n",
    "1. 39 (out of 587,593) NaNs in `Cost` column. Nans rows can be dropped due to insignificant amount. Alternatively, can interpolated (forward fill)\n",
    "\n",
    "2. The following columns could be converted to numerical (floats) judging by the `bidding_df.head()` and columns names\n",
    "```\n",
    "8   AbsoluteTopImpressionPercentage   587593 non-null  object        \n",
    "9   TopImpressionPercentage           587593 non-null  object        \n",
    "10  SearchImpressionShare             587593 non-null  object        \n",
    "11  SearchTopImpressionShare          587593 non-null  object        \n",
    "12  SearchRankLostTopImpressionShare  587593 non-null  object        \n",
    "```"
   ]
  },
  {
   "attachments": {},
   "cell_type": "markdown",
   "metadata": {},
   "source": [
    "# Processing\n",
    "[top](#table-of-contents)"
   ]
  },
  {
   "cell_type": "code",
   "execution_count": null,
   "metadata": {},
   "outputs": [],
   "source": [
    "interim_df = raw_df.copy(deep=True)\n",
    "interim_df_sorted = interim_df.sort_values(\n",
    "    by=['CriterionId', 'Date']).reset_index(drop=True)\n"
   ]
  },
  {
   "cell_type": "code",
   "execution_count": null,
   "metadata": {},
   "outputs": [],
   "source": [
    "def plot_keyword(df, criterion, features):\n",
    "    \"\"\"\n",
    "    The plot_keyword function takes a dataframe, criterion ID, and list of features to plot.\n",
    "    It then plots the specified features for the given criterion ID.\n",
    "    \n",
    "    Parameters\n",
    "    ----------\n",
    "        df\n",
    "            Pass the dataframe to the function\n",
    "        criterion\n",
    "            Select the keyword to plot\n",
    "        features\n",
    "            Specify which columns to plot\n",
    "    \"\"\"\n",
    "    for feature in features:\n",
    "        plt.plot(df.loc[df['CriterionId'] == criterion, 'Date'],\n",
    "                 df.loc[df['CriterionId'] == criterion, feature],\n",
    "                 label=feature)\n",
    "    plt.title('Keyword ID {}\\nUnique keywords {}'.format(\n",
    "        criterion, raw_df.loc[raw_df['CriterionId'] == criterion,\n",
    "                              'Criteria'].unique()))\n",
    "    plt.xticks(rotation=45)\n",
    "    if len(features) == 1:\n",
    "        plt.ylabel(feature)\n",
    "    else:\n",
    "        plt.legend()\n",
    "    plt.show()"
   ]
  },
  {
   "cell_type": "code",
   "execution_count": null,
   "metadata": {},
   "outputs": [],
   "source": [
    "def plot_filled(df, criterion, features):\n",
    "    \"\"\"\n",
    "    The plot_filled function takes a dataframe, criterion ID, and list of features as input.\n",
    "    It then plots the filled values for each feature in the list against the date.\n",
    "    If there is only one feature in the list, it labels that axis with that feature name.\n",
    "    \n",
    "    Parameters\n",
    "    ----------\n",
    "        df\n",
    "            Pass the dataframe to the function\n",
    "        criterion\n",
    "            Filter the dataframe to only show the rows that have a criterionid equal to criterion\n",
    "        features\n",
    "            Specify which columns to plot\n",
    "    \"\"\"\n",
    "    from matplotlib.markers import MarkerStyle\n",
    "\n",
    "    markers = list(MarkerStyle.markers.keys())[1:len(features) + 1]\n",
    "    plt.figure()\n",
    "    for feature, marker in zip(features, markers):\n",
    "        if 'filled' in feature:\n",
    "            plt.plot(df.loc[(df['CriterionId'] == criterion)\n",
    "                            & (df['Cost'].isna()), 'Date'],\n",
    "                     df.loc[(df['CriterionId'] == criterion) &\n",
    "                            (df['Cost'].isna()), feature],\n",
    "                     marker,\n",
    "                     label=feature)\n",
    "        else:\n",
    "            plt.plot(df.loc[df['CriterionId'] == criterion, 'Date'],\n",
    "                     df.loc[df['CriterionId'] == criterion, feature],\n",
    "                     label=feature)\n",
    "    plt.title('Keyword ID {}\\nUnique keywords {}'.format(\n",
    "        criterion,\n",
    "        df.sort_values(\n",
    "            by=['CriterionId', 'Date']).loc[df['CriterionId'] == criterion,\n",
    "                                            'Criteria'].unique()))\n",
    "    plt.xticks(rotation=45)\n",
    "    if len(features) == 1:\n",
    "        plt.ylabel(feature)\n",
    "    else:\n",
    "        plt.legend()\n",
    "    plt.show()"
   ]
  },
  {
   "attachments": {},
   "cell_type": "markdown",
   "metadata": {},
   "source": [
    "## Missing values"
   ]
  },
  {
   "cell_type": "code",
   "execution_count": null,
   "metadata": {},
   "outputs": [],
   "source": [
    "missing_criterionids = raw_df.loc[raw_df['Cost'].isnull(),\n",
    "                                  'CriterionId'].unique()"
   ]
  },
  {
   "cell_type": "code",
   "execution_count": null,
   "metadata": {},
   "outputs": [],
   "source": [
    "print(f'unique keywords with missing values: {len(missing_criterionids)}')"
   ]
  },
  {
   "cell_type": "code",
   "execution_count": null,
   "metadata": {},
   "outputs": [],
   "source": [
    "criterion = np.random.choice(missing_criterionids)\n",
    "features = ['Cost']\n",
    "plot_keyword(df=interim_df_sorted, criterion=criterion, features=features)"
   ]
  },
  {
   "attachments": {},
   "cell_type": "markdown",
   "metadata": {},
   "source": [
    "### Filling with forward fill"
   ]
  },
  {
   "cell_type": "code",
   "execution_count": null,
   "metadata": {},
   "outputs": [],
   "source": [
    "interim_df_sorted['Cost_forward_filled'] = interim_df_sorted[\n",
    "    'Cost'].interpolate(method='ffill')\n"
   ]
  },
  {
   "attachments": {},
   "cell_type": "markdown",
   "metadata": {},
   "source": [
    "### Filling with most frequent"
   ]
  },
  {
   "cell_type": "code",
   "execution_count": null,
   "metadata": {},
   "outputs": [],
   "source": [
    "frequency_imp = SimpleImputer(strategy='most_frequent')\n",
    "interim_df_sorted['Cost_frequency_filled'] = interim_df_sorted['Cost']\n",
    "for criterion in missing_criterionids:\n",
    "    interim_df_sorted.loc[\n",
    "        interim_df_sorted['CriterionId'] == criterion,\n",
    "        'Cost_frequency_filled'] = frequency_imp.fit_transform(\n",
    "            interim_df_sorted.loc[\n",
    "                interim_df_sorted['CriterionId'] == criterion,\n",
    "                'Cost_frequency_filled'].values.reshape(-1, 1)).reshape(-1)\n"
   ]
  },
  {
   "attachments": {},
   "cell_type": "markdown",
   "metadata": {},
   "source": [
    "### Filling with neighbours"
   ]
  },
  {
   "cell_type": "code",
   "execution_count": null,
   "metadata": {},
   "outputs": [],
   "source": [
    "knn_imp = KNNImputer(n_neighbors=5, weights='distance')\n",
    "interim_df_sorted['Cost_knn_filled'] = interim_df_sorted['Cost']\n",
    "for criterion in missing_criterionids:\n",
    "    interim_df_sorted.loc[\n",
    "        interim_df_sorted['CriterionId'] == criterion,\n",
    "        'Cost_knn_filled'] = knn_imp.fit_transform(interim_df_sorted.loc[\n",
    "            interim_df_sorted['CriterionId'] == criterion,\n",
    "            'Cost_knn_filled'].values.reshape(-1, 1)).reshape(-1)\n"
   ]
  },
  {
   "attachments": {},
   "cell_type": "markdown",
   "metadata": {},
   "source": [
    "Comparison of the filling methods on the random keyword"
   ]
  },
  {
   "cell_type": "code",
   "execution_count": null,
   "metadata": {},
   "outputs": [],
   "source": [
    "criterion = np.random.choice(missing_criterionids)\n",
    "plot_filled(df=interim_df_sorted,\n",
    "            criterion=criterion,\n",
    "            features=[\n",
    "                'Cost', 'Cost_forward_filled', 'Cost_frequency_filled',\n",
    "                'Cost_knn_filled'\n",
    "            ])\n",
    "print('keyword {}. mode: {}'.format(\n",
    "    criterion,\n",
    "    interim_df_sorted.loc[interim_df_sorted[\"CriterionId\"] == criterion,\n",
    "                          \"Cost\"].mode()[0]))\n"
   ]
  },
  {
   "attachments": {},
   "cell_type": "markdown",
   "metadata": {},
   "source": [
    "Conclusion on filling NaNs\n",
    "\n",
    "Due to sparsity of data, filling with the most frequent per keyword value was chosen"
   ]
  },
  {
   "cell_type": "code",
   "execution_count": null,
   "metadata": {},
   "outputs": [],
   "source": [
    "interim_df_sorted_no_nans = interim_df_sorted.copy(deep=True)\n",
    "interim_df_sorted_no_nans['Cost'] = interim_df_sorted_no_nans[\n",
    "    'Cost_frequency_filled']\n",
    "interim_df_sorted_no_nans.drop(columns=[\n",
    "    'Cost_forward_filled', 'Cost_frequency_filled', 'Cost_knn_filled'\n",
    "],\n",
    "                               inplace=True)\n",
    "del knn_imp"
   ]
  },
  {
   "attachments": {},
   "cell_type": "markdown",
   "metadata": {},
   "source": [
    "## Converting object features to numerical"
   ]
  },
  {
   "cell_type": "code",
   "execution_count": null,
   "metadata": {},
   "outputs": [],
   "source": [
    "object_columns = [\n",
    "    'AbsoluteTopImpressionPercentage', 'TopImpressionPercentage',\n",
    "    'SearchImpressionShare', 'SearchTopImpressionShare',\n",
    "    'SearchRankLostTopImpressionShare'\n",
    "]\n"
   ]
  },
  {
   "cell_type": "code",
   "execution_count": null,
   "metadata": {},
   "outputs": [],
   "source": [
    "for col in object_columns:\n",
    "    interim_df_sorted_no_nans[col] = interim_df_sorted_no_nans[col].str.lstrip(\n",
    "        '<').str.rstrip('%').astype(float)\n"
   ]
  },
  {
   "attachments": {},
   "cell_type": "markdown",
   "metadata": {},
   "source": [
    "## Scaling metrics features\n",
    "\n",
    "See the ranges of metrics in [Google Ad API](https://developers.google.com/google-ads/api/fields/v11/metrics)"
   ]
  },
  {
   "cell_type": "code",
   "execution_count": null,
   "metadata": {},
   "outputs": [],
   "source": [
    "for col in object_columns:\n",
    "    interim_df_sorted_no_nans[col] = (interim_df_sorted_no_nans[col] -\n",
    "                                      interim_df_sorted_no_nans[col].min()\n",
    "                                      ) / interim_df_sorted_no_nans[col].max()\n",
    "    if 'Percentage' in col:\n",
    "        interim_df_sorted_no_nans[col] *= 100"
   ]
  },
  {
   "attachments": {},
   "cell_type": "markdown",
   "metadata": {},
   "source": [
    "## Downcasting numerical features"
   ]
  },
  {
   "cell_type": "code",
   "execution_count": null,
   "metadata": {},
   "outputs": [],
   "source": [
    "fcols = interim_df_sorted_no_nans.select_dtypes('float').columns\n",
    "icols = interim_df_sorted_no_nans.select_dtypes('integer').columns\n",
    "\n",
    "interim_df_sorted_no_nans[fcols] = interim_df_sorted_no_nans[fcols].apply(\n",
    "    pd.to_numeric, downcast='float')\n",
    "interim_df_sorted_no_nans[icols] = interim_df_sorted_no_nans[icols].apply(\n",
    "    pd.to_numeric, downcast='integer')\n"
   ]
  },
  {
   "attachments": {},
   "cell_type": "markdown",
   "metadata": {},
   "source": [
    "## Profiling interim data"
   ]
  },
  {
   "cell_type": "code",
   "execution_count": null,
   "metadata": {},
   "outputs": [],
   "source": [
    "if 'interim_data.html' not in os.listdir(os.environ['DATA_PROFILES_PATH']):\n",
    "    from ydata_profiling import ProfileReport\n",
    "\n",
    "    os.makedirs(os.environ['DATA_PROFILES_PATH'], exist_ok=True)\n",
    "    interim_data_profile = ProfileReport(interim_df_sorted_no_nans,\n",
    "                                         title='Interim Data Profile')\n",
    "    interim_data_profile.to_file(\n",
    "        os.path.join(os.environ['DATA_PROFILES_PATH'], 'interim_data.html'))\n"
   ]
  },
  {
   "attachments": {},
   "cell_type": "markdown",
   "metadata": {},
   "source": [
    "# Feature engineering\n",
    "[top](#table-of-contents)"
   ]
  },
  {
   "attachments": {},
   "cell_type": "markdown",
   "metadata": {},
   "source": [
    "## Add ROI"
   ]
  },
  {
   "cell_type": "code",
   "execution_count": null,
   "metadata": {},
   "outputs": [],
   "source": [
    "interim_df_sorted_no_nans['ROI_gbp'] = interim_df_sorted_no_nans[\n",
    "    'Margin'].divide(interim_df_sorted_no_nans['Cost_gbp'],\n",
    "                     fill_value=0).replace({\n",
    "                         np.inf: 0,\n",
    "                         np.nan: 0\n",
    "                     })\n",
    "interim_df_sorted_no_nans['ROI'] = interim_df_sorted_no_nans['Margin'].divide(\n",
    "    interim_df_sorted_no_nans['Cost'], fill_value=0).replace({\n",
    "        np.inf: 0,\n",
    "        np.nan: 0\n",
    "    })\n"
   ]
  },
  {
   "attachments": {},
   "cell_type": "markdown",
   "metadata": {},
   "source": [
    "## Convert CPC to GBP"
   ]
  },
  {
   "cell_type": "code",
   "execution_count": null,
   "metadata": {},
   "outputs": [],
   "source": [
    "micros_to_gbp = interim_df_sorted_no_nans['Cost'].div(\n",
    "    interim_df_sorted_no_nans['Cost_gbp']).replace({\n",
    "        np.nan: 0,\n",
    "        np.inf: 0\n",
    "    }).unique()[1:].mean()\n"
   ]
  },
  {
   "cell_type": "code",
   "execution_count": null,
   "metadata": {},
   "outputs": [],
   "source": [
    "interim_df_sorted_no_nans[\n",
    "    'CpcBid_gbp'] = interim_df_sorted_no_nans['CpcBid'] / micros_to_gbp\n"
   ]
  },
  {
   "cell_type": "code",
   "execution_count": null,
   "metadata": {},
   "outputs": [],
   "source": [
    "interim_df_sorted_no_nans['Criteria_list'] = interim_df_sorted_no_nans[\n",
    "    'Criteria'].str.replace('+', '', regex=False).str.split()\n"
   ]
  },
  {
   "cell_type": "code",
   "execution_count": null,
   "metadata": {},
   "outputs": [],
   "source": [
    "len(interim_df_sorted_no_nans.loc[(interim_df_sorted_no_nans['ROI_gbp'] > 2) &\n",
    "                                  (interim_df_sorted_no_nans['Margin'] > 0) &\n",
    "                                  (interim_df_sorted_no_nans['Sessions'] > 0),\n",
    "                                  'CriterionId'].unique())\n"
   ]
  },
  {
   "attachments": {},
   "cell_type": "markdown",
   "metadata": {},
   "source": [
    "# Quick look into keywords\n",
    "[top](#table-of-contents)"
   ]
  },
  {
   "attachments": {},
   "cell_type": "markdown",
   "metadata": {},
   "source": [
    "## Most sessions"
   ]
  },
  {
   "cell_type": "code",
   "execution_count": null,
   "metadata": {},
   "outputs": [],
   "source": [
    "most_sessions = interim_df_sorted_no_nans.sort_values(\n",
    "    by=['Sessions'],\n",
    "    ascending=False).loc[interim_df_sorted_no_nans['ROI_gbp'] > 2,\n",
    "                         'CriterionId'][:75].unique()\n",
    "most_sessions"
   ]
  },
  {
   "cell_type": "code",
   "execution_count": null,
   "metadata": {},
   "outputs": [],
   "source": [
    "interim_df_sorted_no_nans.loc[\n",
    "    interim_df_sorted_no_nans['CriterionId'].isin(most_sessions),\n",
    "    'Criteria'].unique()\n"
   ]
  },
  {
   "attachments": {},
   "cell_type": "markdown",
   "metadata": {},
   "source": [
    "## Least sessions"
   ]
  },
  {
   "cell_type": "code",
   "execution_count": null,
   "metadata": {},
   "outputs": [],
   "source": [
    "least_sessions = interim_df_sorted_no_nans.sort_values(\n",
    "    by=['Sessions'], ascending=True)['CriterionId'].unique()[:10]\n",
    "least_sessions"
   ]
  },
  {
   "cell_type": "code",
   "execution_count": null,
   "metadata": {},
   "outputs": [],
   "source": [
    "interim_df_sorted_no_nans.loc[\n",
    "    interim_df_sorted_no_nans['CriterionId'].isin(least_sessions),\n",
    "    'Criteria'].unique()\n"
   ]
  },
  {
   "attachments": {},
   "cell_type": "markdown",
   "metadata": {},
   "source": [
    "## Most impressions"
   ]
  },
  {
   "cell_type": "code",
   "execution_count": null,
   "metadata": {},
   "outputs": [],
   "source": [
    "most_impressions = interim_df_sorted_no_nans.sort_values(\n",
    "    by=['Impressions'], ascending=False)['CriterionId'].unique()[:10]\n",
    "most_impressions"
   ]
  },
  {
   "cell_type": "code",
   "execution_count": null,
   "metadata": {},
   "outputs": [],
   "source": [
    "interim_df_sorted_no_nans.loc[\n",
    "    interim_df_sorted_no_nans['CriterionId'].isin(most_impressions),\n",
    "    'Criteria'].unique()"
   ]
  },
  {
   "attachments": {},
   "cell_type": "markdown",
   "metadata": {},
   "source": [
    "## Least impressions"
   ]
  },
  {
   "cell_type": "code",
   "execution_count": null,
   "metadata": {},
   "outputs": [],
   "source": [
    "least_impressions = interim_df_sorted_no_nans.sort_values(\n",
    "    by=['Impressions'], ascending=True)['CriterionId'].unique()[:10]\n",
    "least_impressions"
   ]
  },
  {
   "cell_type": "code",
   "execution_count": null,
   "metadata": {},
   "outputs": [],
   "source": [
    "interim_df_sorted_no_nans.loc[\n",
    "    interim_df_sorted_no_nans['CriterionId'].isin(least_impressions),\n",
    "    'Criteria'].unique()\n"
   ]
  },
  {
   "cell_type": "code",
   "execution_count": null,
   "metadata": {},
   "outputs": [],
   "source": [
    "interim_df = interim_df_sorted_no_nans\n",
    "del interim_df_sorted_no_nans, interim_df_sorted, raw_df"
   ]
  },
  {
   "attachments": {},
   "cell_type": "markdown",
   "metadata": {},
   "source": [
    "# Tokenize\n",
    "[top](#table-of-contents)"
   ]
  },
  {
   "cell_type": "code",
   "execution_count": null,
   "metadata": {},
   "outputs": [],
   "source": [
    "tokenizer = AutoTokenizer.from_pretrained('bert-base-uncased')"
   ]
  },
  {
   "cell_type": "code",
   "execution_count": null,
   "metadata": {},
   "outputs": [],
   "source": [
    "interim_df['Criteria_tokenized'] = tokenizer.tokenize(\n",
    "    interim_df['Criteria'].tolist(), padding=True, truncation=True)\n"
   ]
  }
 ],
 "metadata": {
  "kernelspec": {
   "display_name": ".venv",
   "language": "python",
   "name": "python3"
  },
  "language_info": {
   "codemirror_mode": {
    "name": "ipython",
    "version": 3
   },
   "file_extension": ".py",
   "mimetype": "text/x-python",
   "name": "python",
   "nbconvert_exporter": "python",
   "pygments_lexer": "ipython3",
   "version": "3.10.6"
  },
  "orig_nbformat": 4
 },
 "nbformat": 4,
 "nbformat_minor": 2
}
